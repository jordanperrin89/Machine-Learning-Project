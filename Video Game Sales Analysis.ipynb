{
 "cells": [
  {
   "attachments": {},
   "cell_type": "markdown",
   "id": "a98c9d03-7232-4513-add8-a91d5ceccb9e",
   "metadata": {},
   "source": [
    "# Video Game Sales Analysis\n",
    "## A Machine Learning Project\n",
    "Jordan Perrin   199076727"
   ]
  },
  {
   "attachments": {},
   "cell_type": "markdown",
   "id": "f9721694-cecb-405b-985e-ba4162d1fbce",
   "metadata": {},
   "source": [
    "1. I’ll begin by laying out the problem that I decided to solve through machine learning. There is a huge wealth of data out there about video games – video game sales, video game popularity, the best genres, etc. However, I wanted to get to the bottom of the matter about what is truly the best-selling type of video game, and to do that I believe machine learning is the perfect method, as it allows a massive amount of data to be read, understood and fed back to you, without any sort of bias. This would also be incredibly useful for development companies to use in terms of deciding what they want to make next and get an estimate of how popular their next game could be, given some statistics."
   ]
  },
  {
   "cell_type": "code",
   "execution_count": 1,
   "id": "3886f13e-6b41-4e7e-8d5c-a6667cba52ca",
   "metadata": {},
   "outputs": [],
   "source": [
    "import pandas as pd\n",
    "import matplotlib.pyplot as plt\n",
    "import seaborn as sns \n",
    "import numpy as nm\n",
    "import pickle\n",
    "from scipy import stats\n",
    "from scipy.stats import norm, skew \n",
    "from sklearn import linear_model\n",
    "from sklearn.model_selection import train_test_split, KFold, cross_val_score, GridSearchCV\n",
    "from sklearn.preprocessing import MinMaxScaler, StandardScaler, LabelEncoder\n",
    "from sklearn.linear_model import LinearRegression, BayesianRidge, Ridge, RidgeCV, Lasso, LassoCV\n",
    "from sklearn.metrics import r2_score\n",
    "from sklearn.ensemble import RandomForestRegressor\n",
    "\n",
    "import warnings\n",
    "def ignore_warn(*args, **kwargs):\n",
    "    pass\n",
    "warnings.warn = ignore_warn"
   ]
  },
  {
   "attachments": {},
   "cell_type": "markdown",
   "id": "798215e2-c1b8-4937-962d-5193b2931399",
   "metadata": {},
   "source": [
    "2. Here we import the data and display it in different ways, just to check that it loaded okay and to see what data we're dealing with."
   ]
  },
  {
   "cell_type": "code",
   "execution_count": 2,
   "id": "1b7e1168-605b-49c5-a678-f1bdc6c23cc8",
   "metadata": {
    "scrolled": true
   },
   "outputs": [
    {
     "data": {
      "text/plain": [
       "<bound method NDFrame.head of         Rank                                              Name Platform  \\\n",
       "0          1                                        Wii Sports      Wii   \n",
       "1          2                                 Super Mario Bros.      NES   \n",
       "2          3                                    Mario Kart Wii      Wii   \n",
       "3          4                                 Wii Sports Resort      Wii   \n",
       "4          5                          Pokemon Red/Pokemon Blue       GB   \n",
       "...      ...                                               ...      ...   \n",
       "16593  16596                Woody Woodpecker in Crazy Castle 5      GBA   \n",
       "16594  16597                     Men in Black II: Alien Escape       GC   \n",
       "16595  16598  SCORE International Baja 1000: The Official Game      PS2   \n",
       "16596  16599                                        Know How 2       DS   \n",
       "16597  16600                                  Spirits & Spells      GBA   \n",
       "\n",
       "         Year         Genre   Publisher  NA_Sales  EU_Sales  JP_Sales  \\\n",
       "0      2006.0        Sports    Nintendo     41.49     29.02      3.77   \n",
       "1      1985.0      Platform    Nintendo     29.08      3.58      6.81   \n",
       "2      2008.0        Racing    Nintendo     15.85     12.88      3.79   \n",
       "3      2009.0        Sports    Nintendo     15.75     11.01      3.28   \n",
       "4      1996.0  Role-Playing    Nintendo     11.27      8.89     10.22   \n",
       "...       ...           ...         ...       ...       ...       ...   \n",
       "16593  2002.0      Platform       Kemco      0.01      0.00      0.00   \n",
       "16594  2003.0       Shooter  Infogrames      0.01      0.00      0.00   \n",
       "16595  2008.0        Racing  Activision      0.00      0.00      0.00   \n",
       "16596  2010.0        Puzzle    7G//AMES      0.00      0.01      0.00   \n",
       "16597  2003.0      Platform     Wanadoo      0.01      0.00      0.00   \n",
       "\n",
       "       Other_Sales  Global_Sales  \n",
       "0             8.46         82.74  \n",
       "1             0.77         40.24  \n",
       "2             3.31         35.82  \n",
       "3             2.96         33.00  \n",
       "4             1.00         31.37  \n",
       "...            ...           ...  \n",
       "16593         0.00          0.01  \n",
       "16594         0.00          0.01  \n",
       "16595         0.00          0.01  \n",
       "16596         0.00          0.01  \n",
       "16597         0.00          0.01  \n",
       "\n",
       "[16598 rows x 11 columns]>"
      ]
     },
     "execution_count": 2,
     "metadata": {},
     "output_type": "execute_result"
    }
   ],
   "source": [
    "data = pd.read_csv('vgsales.csv')\n",
    "data.head"
   ]
  },
  {
   "cell_type": "code",
   "execution_count": 3,
   "id": "0cde522a-2c1b-4c1e-b1e6-4e8ea5fa1ac4",
   "metadata": {},
   "outputs": [
    {
     "data": {
      "text/plain": [
       "(16598, 11)"
      ]
     },
     "execution_count": 3,
     "metadata": {},
     "output_type": "execute_result"
    }
   ],
   "source": [
    "data.shape"
   ]
  },
  {
   "cell_type": "code",
   "execution_count": 4,
   "id": "13028ad9-a2f5-41e8-8687-def6a6633623",
   "metadata": {},
   "outputs": [
    {
     "data": {
      "text/plain": [
       "array(['Sports', 'Platform', 'Racing', 'Role-Playing', 'Puzzle', 'Misc',\n",
       "       'Shooter', 'Simulation', 'Action', 'Fighting', 'Adventure',\n",
       "       'Strategy'], dtype=object)"
      ]
     },
     "execution_count": 4,
     "metadata": {},
     "output_type": "execute_result"
    }
   ],
   "source": [
    "data['Genre'].unique()"
   ]
  },
  {
   "cell_type": "code",
   "execution_count": 5,
   "id": "85b06be0-53cb-49ba-b747-f173e73575db",
   "metadata": {},
   "outputs": [
    {
     "data": {
      "text/plain": [
       "array(['Wii', 'NES', 'GB', 'DS', 'X360', 'PS3', 'PS2', 'SNES', 'GBA',\n",
       "       '3DS', 'PS4', 'N64', 'PS', 'XB', 'PC', '2600', 'PSP', 'XOne', 'GC',\n",
       "       'WiiU', 'GEN', 'DC', 'PSV', 'SAT', 'SCD', 'WS', 'NG', 'TG16',\n",
       "       '3DO', 'GG', 'PCFX'], dtype=object)"
      ]
     },
     "execution_count": 5,
     "metadata": {},
     "output_type": "execute_result"
    }
   ],
   "source": [
    "data['Platform'].unique()"
   ]
  },
  {
   "cell_type": "code",
   "execution_count": 6,
   "id": "e7d0a53c-bcc5-4220-991d-92ffcefd5971",
   "metadata": {},
   "outputs": [
    {
     "data": {
      "text/plain": [
       "array(['Nintendo', 'Microsoft Game Studios', 'Take-Two Interactive',\n",
       "       'Sony Computer Entertainment', 'Activision', 'Ubisoft',\n",
       "       'Bethesda Softworks', 'Electronic Arts', 'Sega', 'SquareSoft',\n",
       "       'Atari', '505 Games', 'Capcom', 'GT Interactive',\n",
       "       'Konami Digital Entertainment',\n",
       "       'Sony Computer Entertainment Europe', 'Square Enix', 'LucasArts',\n",
       "       'Virgin Interactive', 'Warner Bros. Interactive Entertainment',\n",
       "       'Universal Interactive', 'Eidos Interactive', 'RedOctane',\n",
       "       'Vivendi Games', 'Enix Corporation', 'Namco Bandai Games',\n",
       "       'Palcom', 'Hasbro Interactive', 'THQ', 'Fox Interactive',\n",
       "       'Acclaim Entertainment', 'MTV Games', 'Disney Interactive Studios',\n",
       "       nan, 'Majesco Entertainment', 'Codemasters', 'Red Orb', 'Level 5',\n",
       "       'Arena Entertainment', 'Midway Games', 'JVC', 'Deep Silver',\n",
       "       '989 Studios', 'NCSoft', 'UEP Systems', 'Parker Bros.', 'Maxis',\n",
       "       'Imagic', 'Tecmo Koei', 'Valve Software', 'ASCII Entertainment',\n",
       "       'Mindscape', 'Infogrames', 'Unknown', 'Square', 'Valve',\n",
       "       'Activision Value', 'Banpresto', 'D3Publisher',\n",
       "       'Oxygen Interactive', 'Red Storm Entertainment', 'Video System',\n",
       "       'Hello Games', 'Global Star', 'Gotham Games', 'Westwood Studios',\n",
       "       'GungHo', 'Crave Entertainment', 'Hudson Soft', 'Coleco',\n",
       "       'Rising Star Games', 'Atlus', 'TDK Mediactive', 'ASC Games',\n",
       "       'Zoo Games', 'Accolade', 'Sony Online Entertainment', '3DO', 'RTL',\n",
       "       'Natsume', 'Focus Home Interactive', 'Alchemist',\n",
       "       'Black Label Games', 'SouthPeak Games', 'Mastertronic', 'Ocean',\n",
       "       'Zoo Digital Publishing', 'Psygnosis', 'City Interactive',\n",
       "       'Empire Interactive', 'Success', 'Compile', 'Russel', 'Taito',\n",
       "       'Agetec', 'GSP', 'Microprose', 'Play It', 'Slightly Mad Studios',\n",
       "       'Tomy Corporation', 'Sammy Corporation', 'Koch Media',\n",
       "       'Game Factory', 'Titus', 'Marvelous Entertainment', 'Genki',\n",
       "       'Mojang', 'Pinnacle', 'CTO SpA', 'TalonSoft', 'Crystal Dynamics',\n",
       "       'SCi', 'Quelle', 'mixi, Inc', 'Rage Software', 'Ubisoft Annecy',\n",
       "       'Scholastic Inc.', 'Interplay', 'Mystique', 'ChunSoft',\n",
       "       'Square EA', '20th Century Fox Video Games', 'Avanquest Software',\n",
       "       'Hudson Entertainment', 'Nordic Games', 'Men-A-Vision', 'Nobilis',\n",
       "       'Big Ben Interactive', 'Touchstone', 'Spike', 'Jester Interactive',\n",
       "       'Nippon Ichi Software', 'LEGO Media', 'Quest',\n",
       "       'Illusion Softworks', 'Tigervision', 'Funbox Media',\n",
       "       'Rocket Company', 'Metro 3D', 'Mattel Interactive', 'IE Institute',\n",
       "       'Rondomedia', 'Sony Computer Entertainment America',\n",
       "       'Universal Gamex', 'Ghostlight', 'Wizard Video Games',\n",
       "       'BMG Interactive Entertainment', 'PQube', 'Trion Worlds', 'Laguna',\n",
       "       'Ignition Entertainment', 'Takara', 'Kadokawa Shoten', 'Destineer',\n",
       "       'Enterbrain', 'Xseed Games', 'Imagineer',\n",
       "       'System 3 Arcade Software', 'CPG Products', 'Aruze Corp',\n",
       "       'Gamebridge', 'Midas Interactive Entertainment', 'Jaleco',\n",
       "       'Answer Software', 'XS Games', 'Activision Blizzard',\n",
       "       'Pack In Soft', 'Rebellion', 'Xplosiv', 'Ultravision',\n",
       "       'GameMill Entertainment', 'Wanadoo', 'NovaLogic', 'Telltale Games',\n",
       "       'Epoch', 'BAM! Entertainment', 'Knowledge Adventure', 'Mastiff',\n",
       "       'Tetris Online', 'Harmonix Music Systems', 'ESP', 'TYO',\n",
       "       'Telegames', 'Mud Duck Productions', 'Screenlife', 'Pioneer LDC',\n",
       "       'Magical Company', 'Mentor Interactive', 'Kemco',\n",
       "       'Human Entertainment', 'Avanquest', 'Data Age',\n",
       "       'Electronic Arts Victor', 'Black Bean Games', 'Jack of All Games',\n",
       "       '989 Sports', 'Takara Tomy', 'Media Rings', 'Elf', 'Kalypso Media',\n",
       "       'Starfish', 'Zushi Games', 'Jorudan', 'Destination Software, Inc',\n",
       "       'New', 'Brash Entertainment', 'ITT Family Games', 'PopCap Games',\n",
       "       'Home Entertainment Suppliers', 'Ackkstudios', 'Starpath Corp.',\n",
       "       'P2 Games', 'BPS', 'Gathering of Developers', 'NewKidCo',\n",
       "       'Storm City Games', 'CokeM Interactive', 'CBS Electronics',\n",
       "       'Magix', 'Marvelous Interactive', 'Nihon Falcom Corporation',\n",
       "       'Wargaming.net', 'Angel Studios', 'Arc System Works', 'Playmates',\n",
       "       'SNK Playmore', 'Hamster Corporation', 'From Software',\n",
       "       'Nippon Columbia', 'Nichibutsu', 'Little Orbit',\n",
       "       'Conspiracy Entertainment', 'DTP Entertainment', 'Hect',\n",
       "       'Mumbo Jumbo', 'Pacific Century Cyber Works', 'Indie Games',\n",
       "       'Liquid Games', 'NEC', 'Axela', 'ArtDink', 'Sunsoft', 'Gust',\n",
       "       'SNK', 'NEC Interchannel', 'FuRyu', 'Xing Entertainment',\n",
       "       'ValuSoft', 'Victor Interactive', 'Detn8 Games',\n",
       "       'American Softworks', 'Nordcurrent', 'Bomb', 'Falcom Corporation',\n",
       "       'AQ Interactive', 'CCP', 'Milestone S.r.l.', 'Sears',\n",
       "       'JoWood Productions', 'Seta Corporation', 'On Demand', 'NCS',\n",
       "       'Aspyr', 'Gremlin Interactive Ltd', 'Agatsuma Entertainment',\n",
       "       'Compile Heart', 'Culture Brain', 'Mad Catz', 'Shogakukan',\n",
       "       'Merscom LLC', 'Rebellion Developments', 'Nippon Telenet',\n",
       "       'TDK Core', 'bitComposer Games', 'Foreign Media Games', 'Astragon',\n",
       "       'SSI', 'Kadokawa Games', 'Idea Factory',\n",
       "       'Performance Designed Products', 'Asylum Entertainment',\n",
       "       'Core Design Ltd.', 'PlayV', 'UFO Interactive',\n",
       "       'Idea Factory International', 'Playlogic Game Factory',\n",
       "       'Essential Games', 'Adeline Software', 'Funcom',\n",
       "       'Panther Software', 'Blast! Entertainment Ltd', 'Game Life',\n",
       "       'DSI Games', 'Avalon Interactive', 'Popcorn Arcade',\n",
       "       'Neko Entertainment', 'Vir2L Studios', 'Aques', 'Syscom',\n",
       "       'White Park Bay Software', 'System 3', 'Vatical Entertainment',\n",
       "       'Daedalic', 'EA Games', 'Media Factory', 'Vic Tokai',\n",
       "       'The Adventure Company', 'Game Arts', 'Broccoli', 'Acquire',\n",
       "       'General Entertainment', 'Excalibur Publishing', 'Imadio',\n",
       "       'Swing! Entertainment', 'Sony Music Entertainment', 'Aqua Plus',\n",
       "       'Paradox Interactive', 'Hip Interactive',\n",
       "       'DreamCatcher Interactive', 'Tripwire Interactive', 'Sting',\n",
       "       'Yacht Club Games', 'SCS Software', 'Bigben Interactive',\n",
       "       'Havas Interactive', 'Slitherine Software', 'Graffiti', 'Funsta',\n",
       "       'Telstar', 'U.S. Gold', 'DreamWorks Interactive',\n",
       "       'Data Design Interactive', 'MTO', 'DHM Interactive', 'FunSoft',\n",
       "       'SPS', 'Bohemia Interactive', 'Reef Entertainment',\n",
       "       'Tru Blu Entertainment', 'Moss', 'T&E Soft', 'O-Games',\n",
       "       'Aksys Games', 'NDA Productions', 'Data East',\n",
       "       'Time Warner Interactive', 'Gainax Network Systems', 'Daito',\n",
       "       'O3 Entertainment', 'Gameloft', 'Xicat Interactive',\n",
       "       'Simon & Schuster Interactive', 'Valcon Games', 'PopTop Software',\n",
       "       'TOHO', 'HMH Interactive', '5pb', 'Cave',\n",
       "       'CDV Software Entertainment', 'Microids', 'PM Studios', 'Paon',\n",
       "       'Micro Cabin', 'GameTek', 'Benesse', 'Type-Moon',\n",
       "       'Enjoy Gaming ltd.', 'Asmik Corp', 'Interplay Productions',\n",
       "       'Asmik Ace Entertainment', 'inXile Entertainment', 'Image Epoch',\n",
       "       'Phantom EFX', 'Evolved Games', 'responDESIGN',\n",
       "       'Culture Publishers', 'Griffin International', 'Hackberry',\n",
       "       'Hearty Robin', 'Nippon Amuse', 'Origin Systems', 'Seventh Chord',\n",
       "       'Mitsui', 'Milestone', 'Abylight', 'Flight-Plan', 'Glams', 'Locus',\n",
       "       'Warp', 'Daedalic Entertainment', 'Alternative Software',\n",
       "       'Myelin Media', 'Mercury Games', 'Irem Software Engineering',\n",
       "       'Sunrise Interactive', 'Elite', 'Evolution Games', 'Tivola',\n",
       "       'Global A Entertainment', 'Edia', 'Athena', 'Aria', 'Gamecock',\n",
       "       'Tommo', 'Altron', 'Happinet', 'iWin', 'Media Works', 'Fortyfive',\n",
       "       'Revolution Software', 'Imax', 'Crimson Cow', '10TACLE Studios',\n",
       "       'Groove Games', 'Pack-In-Video', 'Insomniac Games',\n",
       "       'Ascaron Entertainment GmbH', 'Asgard', 'Ecole', 'Yumedia',\n",
       "       'Phenomedia', 'HAL Laboratory', 'Grand Prix Games', 'DigiCube',\n",
       "       'Creative Core', 'Kaga Create', 'WayForward Technologies',\n",
       "       'LSP Games', 'ASCII Media Works', 'Coconuts Japan', 'Arika',\n",
       "       'Ertain', 'Marvel Entertainment', 'Prototype',\n",
       "       'TopWare Interactive', 'Phantagram', '1C Company',\n",
       "       'The Learning Company', 'TechnoSoft', 'Vap', 'Misawa', 'Tradewest',\n",
       "       'Team17 Software', 'Yeti', 'Pow', 'Navarre Corp', 'MediaQuest',\n",
       "       'Max Five', 'Comfort', 'Monte Christo Multimedia', 'Pony Canyon',\n",
       "       'Riverhillsoft', 'Summitsoft', 'Milestone S.r.l', 'Playmore',\n",
       "       'MLB.com', 'Kool Kizz', 'Flashpoint Games', '49Games',\n",
       "       'Legacy Interactive', 'Alawar Entertainment', 'CyberFront',\n",
       "       'Cloud Imperium Games Corporation', 'Societa',\n",
       "       'Virtual Play Games', 'Interchannel', 'Sonnet', 'Experience Inc.',\n",
       "       'Zenrin', 'Iceberg Interactive', 'Ivolgamus', '2D Boy',\n",
       "       'MC2 Entertainment', 'Kando Games', 'Just Flight', 'Office Create',\n",
       "       'Mamba Games', 'Fields', 'Princess Soft', 'Maximum Family Games',\n",
       "       'Berkeley', 'Fuji', 'Dusenberry Martin Racing', 'imageepoch Inc.',\n",
       "       'Big Fish Games', 'Her Interactive', 'Kamui', 'ASK',\n",
       "       'Headup Games', 'KSS', 'Cygames', 'KID', 'Quinrose', 'Sunflowers',\n",
       "       'dramatic create', 'TGL', 'Encore', 'Extreme Entertainment Group',\n",
       "       'Intergrow', 'G.Rev', 'Sweets', 'Kokopeli Digital Studios',\n",
       "       'Number None', 'Nexon', 'id Software', 'BushiRoad', 'Tryfirst',\n",
       "       'Strategy First', '7G//AMES', 'GN Software', \"Yuke's\",\n",
       "       'Easy Interactive', 'Licensed 4U', 'FuRyu Corporation',\n",
       "       'Lexicon Entertainment', 'Paon Corporation', 'Kids Station', 'GOA',\n",
       "       'Graphsim Entertainment', 'King Records', 'Introversion Software',\n",
       "       'Minato Station', 'Devolver Digital', 'Blue Byte', 'Gaga',\n",
       "       'Yamasa Entertainment', 'Plenty', 'Views', 'fonfun', 'NetRevo',\n",
       "       'Codemasters Online', 'Quintet', 'Phoenix Games', 'Dorart',\n",
       "       'Marvelous Games', 'Focus Multimedia', 'Imageworks',\n",
       "       'Karin Entertainment', 'Aerosoft', 'Technos Japan Corporation',\n",
       "       'Gakken', 'Mirai Shounen', 'Datam Polystar', 'Saurus', 'HuneX',\n",
       "       'Revolution (Japan)', 'Giza10', 'Visco', 'Alvion', 'Mycom', 'Giga',\n",
       "       'Warashi', 'System Soft', 'Sold Out', 'Lighthouse Interactive',\n",
       "       'Masque Publishing', 'RED Entertainment', 'Michaelsoft',\n",
       "       'Media Entertainment', 'New World Computing', 'Genterprise',\n",
       "       'Interworks Unlimited, Inc.', 'Boost On', 'Stainless Games',\n",
       "       'EON Digital Entertainment', 'Epic Games', 'Naxat Soft',\n",
       "       'Ascaron Entertainment', 'Piacci', 'Nitroplus',\n",
       "       'Paradox Development', 'Otomate', 'Ongakukan', 'Commseed',\n",
       "       'Inti Creates', 'Takuyo', 'Interchannel-Holon', 'Rain Games',\n",
       "       'UIG Entertainment'], dtype=object)"
      ]
     },
     "execution_count": 6,
     "metadata": {},
     "output_type": "execute_result"
    }
   ],
   "source": [
    "data['Publisher'].unique()"
   ]
  },
  {
   "attachments": {},
   "cell_type": "markdown",
   "id": "96e75050-d4b0-4cb0-9722-ff6a693d491f",
   "metadata": {},
   "source": [
    "3. Next, we'll check for any blank fields, so we can clean them."
   ]
  },
  {
   "cell_type": "code",
   "execution_count": 7,
   "id": "fa1ae073-1cee-4bd6-bdf4-da485955564a",
   "metadata": {},
   "outputs": [
    {
     "data": {
      "text/plain": [
       "Rank              0\n",
       "Name              0\n",
       "Platform          0\n",
       "Year            271\n",
       "Genre             0\n",
       "Publisher        58\n",
       "NA_Sales          0\n",
       "EU_Sales          0\n",
       "JP_Sales          0\n",
       "Other_Sales       0\n",
       "Global_Sales      0\n",
       "dtype: int64"
      ]
     },
     "execution_count": 7,
     "metadata": {},
     "output_type": "execute_result"
    }
   ],
   "source": [
    "data.isna().sum()"
   ]
  },
  {
   "cell_type": "markdown",
   "id": "b3d20a75-664c-45aa-93d2-3b7dbb41b0be",
   "metadata": {},
   "source": [
    "There are 271 Blank fields in year, and 58 in Publisher. However, these two columns are going to be unnecessary for us to clean, as we're going to remove them anyway. I don't believe the year the game released and the game publisher will weigh too heavily on what we're looking for, so we can drop them, as well as the game name, it's rank in the list, and the sales values that come together to make up the global sales, as none of them will effect what we're looking for."
   ]
  },
  {
   "cell_type": "code",
   "execution_count": 8,
   "id": "bec4c69d-39b7-46be-9310-fec88d0ec538",
   "metadata": {},
   "outputs": [
    {
     "data": {
      "text/plain": [
       "(16598, 7)"
      ]
     },
     "execution_count": 8,
     "metadata": {},
     "output_type": "execute_result"
    }
   ],
   "source": [
    "data = data.drop(columns = ['Name','Rank','Year', 'Publisher'], axis=1)\n",
    "data.shape"
   ]
  },
  {
   "cell_type": "code",
   "execution_count": 9,
   "id": "8abb3e02-70af-4931-8632-9e524e79c0b2",
   "metadata": {},
   "outputs": [
    {
     "data": {
      "text/plain": [
       "<bound method NDFrame.head of       Platform         Genre  NA_Sales  EU_Sales  JP_Sales  Other_Sales  \\\n",
       "0          Wii        Sports     41.49     29.02      3.77         8.46   \n",
       "1          NES      Platform     29.08      3.58      6.81         0.77   \n",
       "2          Wii        Racing     15.85     12.88      3.79         3.31   \n",
       "3          Wii        Sports     15.75     11.01      3.28         2.96   \n",
       "4           GB  Role-Playing     11.27      8.89     10.22         1.00   \n",
       "...        ...           ...       ...       ...       ...          ...   \n",
       "16593      GBA      Platform      0.01      0.00      0.00         0.00   \n",
       "16594       GC       Shooter      0.01      0.00      0.00         0.00   \n",
       "16595      PS2        Racing      0.00      0.00      0.00         0.00   \n",
       "16596       DS        Puzzle      0.00      0.01      0.00         0.00   \n",
       "16597      GBA      Platform      0.01      0.00      0.00         0.00   \n",
       "\n",
       "       Global_Sales  \n",
       "0             82.74  \n",
       "1             40.24  \n",
       "2             35.82  \n",
       "3             33.00  \n",
       "4             31.37  \n",
       "...             ...  \n",
       "16593          0.01  \n",
       "16594          0.01  \n",
       "16595          0.01  \n",
       "16596          0.01  \n",
       "16597          0.01  \n",
       "\n",
       "[16598 rows x 7 columns]>"
      ]
     },
     "execution_count": 9,
     "metadata": {},
     "output_type": "execute_result"
    }
   ],
   "source": [
    "data.head"
   ]
  },
  {
   "cell_type": "markdown",
   "id": "8531ac72-a49d-492b-bf9e-aac7e663a518",
   "metadata": {},
   "source": [
    "We're also going to remove the data for the platforms apart from the most recent ones, as not only has gaming come a long way in popularity and demographic, so the data from the \"old\" consoles won't be as up to date and accurate as the recent generation of consoles, but it also means the data will be easier to practice on."
   ]
  },
  {
   "cell_type": "code",
   "execution_count": 10,
   "id": "32989789-edd2-49fc-832f-487096dafe77",
   "metadata": {},
   "outputs": [
    {
     "data": {
      "text/plain": [
       "array(['Wii', 'NES', 'GB', 'DS', 'X360', 'PS3', 'PS2', 'SNES', 'GBA',\n",
       "       '3DS', 'PS4', 'N64', 'PS', 'XB', 'PC', '2600', 'PSP', 'XOne', 'GC',\n",
       "       'WiiU', 'GEN', 'DC', 'PSV', 'SAT', 'SCD', 'WS', 'NG', 'TG16',\n",
       "       '3DO', 'GG', 'PCFX'], dtype=object)"
      ]
     },
     "execution_count": 10,
     "metadata": {},
     "output_type": "execute_result"
    }
   ],
   "source": [
    "data['Platform'].unique()"
   ]
  },
  {
   "cell_type": "markdown",
   "id": "bbfcbf17-dda5-4c1d-83f2-391dd0067d68",
   "metadata": {},
   "source": [
    "We will check again for null or na values, just to make sure we haven't  missed anything."
   ]
  },
  {
   "cell_type": "code",
   "execution_count": 11,
   "id": "fa0e72a4-e5b5-4417-ba99-cd0b7c8d730a",
   "metadata": {},
   "outputs": [
    {
     "data": {
      "text/plain": [
       "Platform        0\n",
       "Genre           0\n",
       "NA_Sales        0\n",
       "EU_Sales        0\n",
       "JP_Sales        0\n",
       "Other_Sales     0\n",
       "Global_Sales    0\n",
       "dtype: int64"
      ]
     },
     "execution_count": 11,
     "metadata": {},
     "output_type": "execute_result"
    }
   ],
   "source": [
    "data.isna().sum()"
   ]
  },
  {
   "cell_type": "code",
   "execution_count": 12,
   "id": "9b4cde48-069a-4abc-8d9d-c9961c1ee78d",
   "metadata": {},
   "outputs": [
    {
     "data": {
      "text/plain": [
       "Platform        0\n",
       "Genre           0\n",
       "NA_Sales        0\n",
       "EU_Sales        0\n",
       "JP_Sales        0\n",
       "Other_Sales     0\n",
       "Global_Sales    0\n",
       "dtype: int64"
      ]
     },
     "execution_count": 12,
     "metadata": {},
     "output_type": "execute_result"
    }
   ],
   "source": [
    "data.isnull().sum()"
   ]
  },
  {
   "cell_type": "markdown",
   "id": "ffe6216f-77ca-4030-aaa5-efe56515c248",
   "metadata": {},
   "source": [
    "Checking the data once again."
   ]
  },
  {
   "cell_type": "code",
   "execution_count": 13,
   "id": "952661b1-e254-4900-a55c-6badace069e4",
   "metadata": {},
   "outputs": [
    {
     "data": {
      "text/plain": [
       "<bound method NDFrame.head of       Platform         Genre  NA_Sales  EU_Sales  JP_Sales  Other_Sales  \\\n",
       "0          Wii        Sports     41.49     29.02      3.77         8.46   \n",
       "1          NES      Platform     29.08      3.58      6.81         0.77   \n",
       "2          Wii        Racing     15.85     12.88      3.79         3.31   \n",
       "3          Wii        Sports     15.75     11.01      3.28         2.96   \n",
       "4           GB  Role-Playing     11.27      8.89     10.22         1.00   \n",
       "...        ...           ...       ...       ...       ...          ...   \n",
       "16593      GBA      Platform      0.01      0.00      0.00         0.00   \n",
       "16594       GC       Shooter      0.01      0.00      0.00         0.00   \n",
       "16595      PS2        Racing      0.00      0.00      0.00         0.00   \n",
       "16596       DS        Puzzle      0.00      0.01      0.00         0.00   \n",
       "16597      GBA      Platform      0.01      0.00      0.00         0.00   \n",
       "\n",
       "       Global_Sales  \n",
       "0             82.74  \n",
       "1             40.24  \n",
       "2             35.82  \n",
       "3             33.00  \n",
       "4             31.37  \n",
       "...             ...  \n",
       "16593          0.01  \n",
       "16594          0.01  \n",
       "16595          0.01  \n",
       "16596          0.01  \n",
       "16597          0.01  \n",
       "\n",
       "[16598 rows x 7 columns]>"
      ]
     },
     "execution_count": 13,
     "metadata": {},
     "output_type": "execute_result"
    }
   ],
   "source": [
    "data.head"
   ]
  },
  {
   "cell_type": "markdown",
   "id": "c2a8220b-d5bd-4791-a621-5e7371b243bb",
   "metadata": {},
   "source": [
    "Here we plot the data to check for outliers, using a scatter graph of the genre against the global sales."
   ]
  },
  {
   "cell_type": "code",
   "execution_count": 14,
   "id": "201d12ca-6682-4bec-8734-7a237de89831",
   "metadata": {},
   "outputs": [
    {
     "data": {
      "image/png": "[encoded data removed]",
      "text/plain": [
       "<Figure size 640x480 with 1 Axes>"
      ]
     },
     "metadata": {},
     "output_type": "display_data"
    }
   ],
   "source": [
    "fig, ax = plt.subplots()\n",
    "plt.setp(ax.get_xticklabels(), rotation=50, horizontalalignment='right', fontsize='x-small')\n",
    "ax.scatter(x = data['Genre'], y = data['Global_Sales'])\n",
    "plt.ylabel('Global_Sales', fontsize=13)\n",
    "plt.xlabel('Genre', fontsize=13)\n",
    "plt.show()"
   ]
  },
  {
   "cell_type": "markdown",
   "id": "c5eeecc6-ff8d-4bc7-81ff-2d4814ade679",
   "metadata": {},
   "source": [
    "There's a very clear outlier to the rest of the games (it's wii sports by the way, so no wonder) that skews the data, so we'll remove that and have more normalized data (sorry wii sports, bowling was pretty good)"
   ]
  },
  {
   "cell_type": "code",
   "execution_count": 15,
   "id": "646ce4f4-1b52-4c7d-965f-4f606762307e",
   "metadata": {},
   "outputs": [],
   "source": [
    "data = data.drop(data[(data['Genre']=='Sports') & (data['Global_Sales']>80)].index)"
   ]
  },
  {
   "cell_type": "code",
   "execution_count": 16,
   "id": "6475904a-e67d-46f7-8187-e4b0c68d83ae",
   "metadata": {
    "scrolled": true
   },
   "outputs": [
    {
     "data": {
      "image/png": "[encoded data removed]",
      "text/plain": [
       "<Figure size 640x480 with 1 Axes>"
      ]
     },
     "metadata": {},
     "output_type": "display_data"
    }
   ],
   "source": [
    "fig, ax = plt.subplots()\n",
    "plt.setp(ax.get_xticklabels(), rotation=50, horizontalalignment='right', fontsize='x-small')\n",
    "ax.scatter(x = data['Genre'], y = data['Global_Sales'])\n",
    "plt.ylabel('Global_Sales', fontsize=13)\n",
    "plt.xlabel('Genre', fontsize=13)\n",
    "plt.show()"
   ]
  },
  {
   "cell_type": "markdown",
   "id": "8a8c8ccb-46a4-4300-b8aa-3ec8069ad13c",
   "metadata": {},
   "source": [
    "We do the same for the Global Sales against the Platform, and our results are pretty standardized, especially now that Wii Sports has already been removed."
   ]
  },
  {
   "cell_type": "code",
   "execution_count": 17,
   "id": "10454627-a096-40cc-a917-bd37bb93a384",
   "metadata": {
    "scrolled": true
   },
   "outputs": [
    {
     "data": {
      "image/png": "[encoded data removed]",
      "text/plain": [
       "<Figure size 640x480 with 1 Axes>"
      ]
     },
     "metadata": {},
     "output_type": "display_data"
    }
   ],
   "source": [
    "fig, ax = plt.subplots()\n",
    "plt.setp(ax.get_xticklabels(), rotation=50, horizontalalignment='right', fontsize='x-small')\n",
    "ax.scatter(x = data['Platform'], y = data['Global_Sales'])\n",
    "plt.ylabel('Global_Sales', fontsize=13)\n",
    "plt.xlabel('Platform', fontsize=10)\n",
    "plt.show()"
   ]
  },
  {
   "cell_type": "markdown",
   "id": "a4b957e9-55dd-4dcc-80d7-dfab82780b80",
   "metadata": {},
   "source": [
    "Here we can see we have some outliers on the Wii, which we will remove to create a much more standardized reading."
   ]
  },
  {
   "cell_type": "code",
   "execution_count": 18,
   "id": "7aa26da5-3efd-4710-9af5-293f6c0d8ecd",
   "metadata": {},
   "outputs": [
    {
     "data": {
      "image/png": "[encoded data removed]",
      "text/plain": [
       "<Figure size 640x480 with 1 Axes>"
      ]
     },
     "metadata": {},
     "output_type": "display_data"
    }
   ],
   "source": [
    "fig, ax = plt.subplots()\n",
    "plt.setp(ax.get_xticklabels(), rotation=50, horizontalalignment='right', fontsize='x-small')\n",
    "ax.scatter(x = data['Platform'], y = data['Global_Sales'])\n",
    "plt.ylabel('Global_Sales', fontsize=13)\n",
    "plt.xlabel('Platform', fontsize=10)\n",
    "plt.show()"
   ]
  },
  {
   "cell_type": "markdown",
   "id": "1d3f97c0-67e3-45fa-8390-0c08d098c7af",
   "metadata": {},
   "source": [
    "Now we check what data types we have in our data, so we can change and clean it as necessary so that the machine can read it."
   ]
  },
  {
   "cell_type": "code",
   "execution_count": 19,
   "id": "8bef448a-5e18-428a-9fb0-0a3c7b277ca8",
   "metadata": {},
   "outputs": [
    {
     "name": "stdout",
     "output_type": "stream",
     "text": [
      "Number of float64 columns:  5\n",
      "Names of columns:  ['NA_Sales', 'EU_Sales', 'JP_Sales', 'Other_Sales', 'Global_Sales']\n"
     ]
    }
   ],
   "source": [
    "float64_cols = ['float64']\n",
    "float64_lst = list(data.select_dtypes(include=float64_cols).columns)\n",
    "print(\"Number of float64 columns: \", len(float64_lst))\n",
    "print(\"Names of columns: \", float64_lst)"
   ]
  },
  {
   "cell_type": "code",
   "execution_count": 20,
   "id": "696e9658-484e-4199-8e49-ea18abe8fe4f",
   "metadata": {},
   "outputs": [
    {
     "name": "stdout",
     "output_type": "stream",
     "text": [
      "Number of categorical columns:  2\n",
      "Names of columns:  ['Platform', 'Genre']\n"
     ]
    }
   ],
   "source": [
    "objects_cols = ['object']\n",
    "objects_lst = list(data.select_dtypes(include=objects_cols).columns)\n",
    "print(\"Number of categorical columns: \", len(objects_lst))\n",
    "print(\"Names of columns: \", objects_lst)"
   ]
  },
  {
   "cell_type": "code",
   "execution_count": 21,
   "id": "8cad8c46-183b-4556-a4af-0abc74a5c64d",
   "metadata": {},
   "outputs": [
    {
     "name": "stdout",
     "output_type": "stream",
     "text": [
      "Number of numerical columns:  0\n",
      "Names of columns:  []\n"
     ]
    }
   ],
   "source": [
    "int64_cols = ['int64']\n",
    "int64_lst = list(data.select_dtypes(include=int64_cols).columns)\n",
    "print(\"Number of numerical columns: \", len(int64_lst))\n",
    "print(\"Names of columns: \", int64_lst)"
   ]
  },
  {
   "cell_type": "markdown",
   "id": "eb6a5c23-a3db-4eeb-8df0-d82a34d897ed",
   "metadata": {},
   "source": [
    "As we have 2 categorical data columns, we need to encode them to make sure that the machine can actually read them, as they're currently just labels instead of any readable numerical data. We can also first display the unique platforms and genres, so that we can match them up later if we want to test a certain input."
   ]
  },
  {
   "cell_type": "code",
   "execution_count": 22,
   "id": "bb216c56-622c-409f-9b7d-1d268b29dff8",
   "metadata": {},
   "outputs": [
    {
     "data": {
      "text/plain": [
       "array(['NES', 'Wii', 'GB', 'DS', 'X360', 'PS3', 'PS2', 'SNES', 'GBA',\n",
       "       '3DS', 'PS4', 'N64', 'PS', 'XB', 'PC', '2600', 'PSP', 'XOne', 'GC',\n",
       "       'WiiU', 'GEN', 'DC', 'PSV', 'SAT', 'SCD', 'WS', 'NG', 'TG16',\n",
       "       '3DO', 'GG', 'PCFX'], dtype=object)"
      ]
     },
     "execution_count": 22,
     "metadata": {},
     "output_type": "execute_result"
    }
   ],
   "source": [
    "data['Platform'].unique()"
   ]
  },
  {
   "cell_type": "code",
   "execution_count": 23,
   "id": "674f2148-2394-45ed-95e2-4b8fd1d849d6",
   "metadata": {},
   "outputs": [
    {
     "data": {
      "text/plain": [
       "array(['Platform', 'Racing', 'Sports', 'Role-Playing', 'Puzzle', 'Misc',\n",
       "       'Shooter', 'Simulation', 'Action', 'Fighting', 'Adventure',\n",
       "       'Strategy'], dtype=object)"
      ]
     },
     "execution_count": 23,
     "metadata": {},
     "output_type": "execute_result"
    }
   ],
   "source": [
    "data['Genre'].unique()"
   ]
  },
  {
   "cell_type": "code",
   "execution_count": 24,
   "id": "e231ea05-bb90-4b98-8121-3829f8a3e214",
   "metadata": {},
   "outputs": [],
   "source": [
    "le = LabelEncoder()\n",
    "data.Platform = le.fit_transform(data.Platform)\n",
    "data.Genre = le.fit_transform(data.Genre)"
   ]
  },
  {
   "cell_type": "markdown",
   "id": "69576f50-7154-4b5c-9512-8bde89af46d0",
   "metadata": {},
   "source": [
    "Once we've encoded it, we can check the unique values again, and as you can see, the values are no longer X360, Wii, Wii U, etc. but instead it's been transformed into numerical data, that the machine can read."
   ]
  },
  {
   "cell_type": "code",
   "execution_count": 25,
   "id": "39a6e0e7-7594-4f6e-927f-c738233bfe1b",
   "metadata": {},
   "outputs": [
    {
     "data": {
      "text/plain": [
       "array([11, 26,  5,  4, 28, 17, 16, 23,  6,  2, 18, 10, 15, 29, 13,  0, 19,\n",
       "       30,  7, 27,  8,  3, 20, 21, 22, 25, 12, 24,  1,  9, 14])"
      ]
     },
     "execution_count": 25,
     "metadata": {},
     "output_type": "execute_result"
    }
   ],
   "source": [
    "data['Platform'].unique()"
   ]
  },
  {
   "cell_type": "code",
   "execution_count": 26,
   "id": "906abc92-235c-4cdb-a595-612ea4e5d14a",
   "metadata": {},
   "outputs": [
    {
     "data": {
      "text/plain": [
       "array([ 4,  6, 10,  7,  5,  3,  8,  9,  0,  2,  1, 11])"
      ]
     },
     "execution_count": 26,
     "metadata": {},
     "output_type": "execute_result"
    }
   ],
   "source": [
    "data['Genre'].unique()"
   ]
  },
  {
   "cell_type": "markdown",
   "id": "e60b6d75-33e7-43b1-bbca-cc556a4cdabc",
   "metadata": {},
   "source": [
    "Now that this is done, we can move onto calculating the skew of the data, which basically is how far to the left/right of the average the data skews."
   ]
  },
  {
   "cell_type": "code",
   "execution_count": 27,
   "id": "53bab557-22ec-4ddf-903b-f2121af028d2",
   "metadata": {},
   "outputs": [
    {
     "data": {
      "text/plain": [
       "11.217078679154975"
      ]
     },
     "execution_count": 27,
     "metadata": {},
     "output_type": "execute_result"
    }
   ],
   "source": [
    "data['Global_Sales'].skew()"
   ]
  },
  {
   "cell_type": "code",
   "execution_count": 28,
   "id": "9c9c0695-89b5-4981-b679-18db2ba761f6",
   "metadata": {},
   "outputs": [
    {
     "data": {
      "text/plain": [
       "11.250346409124097"
      ]
     },
     "execution_count": 28,
     "metadata": {},
     "output_type": "execute_result"
    }
   ],
   "source": [
    "data['JP_Sales'].skew()"
   ]
  },
  {
   "cell_type": "code",
   "execution_count": 29,
   "id": "bfc74bd2-ab67-4154-ba04-310ce61de13b",
   "metadata": {},
   "outputs": [
    {
     "data": {
      "text/plain": [
       "10.61765441955855"
      ]
     },
     "execution_count": 29,
     "metadata": {},
     "output_type": "execute_result"
    }
   ],
   "source": [
    "data['EU_Sales'].skew()"
   ]
  },
  {
   "cell_type": "code",
   "execution_count": 30,
   "id": "a70eb385-1703-411a-b9ec-9cbde8b389d6",
   "metadata": {},
   "outputs": [
    {
     "data": {
      "text/plain": [
       "14.196793548692366"
      ]
     },
     "execution_count": 30,
     "metadata": {},
     "output_type": "execute_result"
    }
   ],
   "source": [
    "data['NA_Sales'].skew()"
   ]
  },
  {
   "cell_type": "code",
   "execution_count": 31,
   "id": "03009754-fabf-4be4-8664-18d87123ed0a",
   "metadata": {},
   "outputs": [
    {
     "data": {
      "text/plain": [
       "22.88153332387653"
      ]
     },
     "execution_count": 31,
     "metadata": {},
     "output_type": "execute_result"
    }
   ],
   "source": [
    "data['Other_Sales'].skew()"
   ]
  },
  {
   "cell_type": "code",
   "execution_count": 32,
   "id": "347a738c-25c8-460d-92f1-f4971bdf0096",
   "metadata": {},
   "outputs": [
    {
     "data": {
      "text/plain": [
       "Other_Sales     22.881533\n",
       "NA_Sales        14.196794\n",
       "JP_Sales        11.250346\n",
       "Global_Sales    11.217079\n",
       "EU_Sales        10.617654\n",
       "Genre            0.068595\n",
       "Platform        -0.031125\n",
       "dtype: float64"
      ]
     },
     "execution_count": 32,
     "metadata": {},
     "output_type": "execute_result"
    }
   ],
   "source": [
    "data.skew().sort_values(ascending=False)"
   ]
  },
  {
   "cell_type": "code",
   "execution_count": 33,
   "id": "ad2f1dfd-b373-423f-ad84-c7e4be18e19d",
   "metadata": {},
   "outputs": [
    {
     "data": {
      "text/plain": [
       "3.2317359669692824"
      ]
     },
     "execution_count": 33,
     "metadata": {},
     "output_type": "execute_result"
    }
   ],
   "source": [
    "data['JP_Sales_skew'] = nm.sqrt(data['JP_Sales'])\n",
    "data['JP_Sales_skew'].skew()"
   ]
  },
  {
   "cell_type": "code",
   "execution_count": 34,
   "id": "4d57aecc-6e80-43c1-8ae6-8f7d1b42acfc",
   "metadata": {},
   "outputs": [
    {
     "data": {
      "text/plain": [
       "2.674102050540048"
      ]
     },
     "execution_count": 34,
     "metadata": {},
     "output_type": "execute_result"
    }
   ],
   "source": [
    "data['EU_Sales_skew'] = nm.sqrt(data['EU_Sales'])\n",
    "data['EU_Sales_skew'].skew()"
   ]
  },
  {
   "cell_type": "code",
   "execution_count": 35,
   "id": "ca4a145c-05e7-4d09-ad7e-e6adc5290ffc",
   "metadata": {},
   "outputs": [
    {
     "data": {
      "text/plain": [
       "2.4992635776333656"
      ]
     },
     "execution_count": 35,
     "metadata": {},
     "output_type": "execute_result"
    }
   ],
   "source": [
    "data['NA_Sales_skew'] = nm.sqrt(data['NA_Sales'])\n",
    "data['NA_Sales_skew'].skew()"
   ]
  },
  {
   "cell_type": "code",
   "execution_count": 36,
   "id": "d77a7c13-0a2e-4320-9b1d-f492026c66d2",
   "metadata": {},
   "outputs": [
    {
     "data": {
      "text/plain": [
       "3.1128291077588237"
      ]
     },
     "execution_count": 36,
     "metadata": {},
     "output_type": "execute_result"
    }
   ],
   "source": [
    "data['Other_Sales_skew'] = nm.sqrt(data['Other_Sales'])\n",
    "data['Other_Sales_skew'].skew()"
   ]
  },
  {
   "cell_type": "code",
   "execution_count": 37,
   "id": "e61172ed-a6a0-4e90-9dea-7147cafc85fe",
   "metadata": {},
   "outputs": [
    {
     "data": {
      "text/plain": [
       "3.071466319358874"
      ]
     },
     "execution_count": 37,
     "metadata": {},
     "output_type": "execute_result"
    }
   ],
   "source": [
    "data['Global_Sales_skew'] = nm.sqrt(data['Global_Sales'])\n",
    "data['Global_Sales_skew'].skew()"
   ]
  },
  {
   "cell_type": "code",
   "execution_count": 38,
   "id": "db57e931-93b6-4ccf-bd92-29a0bb8adfbd",
   "metadata": {},
   "outputs": [],
   "source": [
    "data = data.drop(['NA_Sales','EU_Sales','JP_Sales','Other_Sales','Global_Sales'],axis = 1)"
   ]
  },
  {
   "cell_type": "markdown",
   "id": "4172eb1b-d0f1-4e0f-a62a-d6648a73be55",
   "metadata": {},
   "source": [
    "Normalizing the skew in this data isn't as important as it would be for other kinds of data, as the range of sales does not normalize well, and isn't important to figuring out how genre/platform effects the sales. "
   ]
  },
  {
   "cell_type": "markdown",
   "id": "3453f52f-faca-40ef-aef9-95843923dce3",
   "metadata": {},
   "source": [
    "Next, we choose the global sales value to be the target of the features, basically choosing global sales to be what we try to estimate by using the genre and platform."
   ]
  },
  {
   "cell_type": "code",
   "execution_count": 39,
   "id": "241a3c1b-3557-41c8-b6f9-98b0e2c1ea43",
   "metadata": {},
   "outputs": [
    {
     "name": "stdout",
     "output_type": "stream",
     "text": [
      "<class 'pandas.core.frame.DataFrame'>\n",
      "RangeIndex: 16597 entries, 1 to 16597\n",
      "Data columns (total 6 columns):\n",
      " #   Column            Non-Null Count  Dtype  \n",
      "---  ------            --------------  -----  \n",
      " 0   Platform          16597 non-null  int32  \n",
      " 1   Genre             16597 non-null  int32  \n",
      " 2   JP_Sales_skew     16597 non-null  float64\n",
      " 3   EU_Sales_skew     16597 non-null  float64\n",
      " 4   NA_Sales_skew     16597 non-null  float64\n",
      " 5   Other_Sales_skew  16597 non-null  float64\n",
      "dtypes: float64(4), int32(2)\n",
      "memory usage: 648.4 KB\n"
     ]
    }
   ],
   "source": [
    "target= 'Global_Sales_skew'\n",
    "X = data.drop(target,axis=1)\n",
    "y = data[target]\n",
    "X.info()"
   ]
  },
  {
   "cell_type": "markdown",
   "id": "a93bfb41-82e3-4828-be2e-87d464f4460f",
   "metadata": {},
   "source": [
    "Printing the shape of X and y to check that it worked properly."
   ]
  },
  {
   "cell_type": "code",
   "execution_count": 40,
   "id": "48b3d162-0441-4103-8a10-9f7accab25f4",
   "metadata": {},
   "outputs": [
    {
     "data": {
      "text/plain": [
       "((16597, 6), (16597,))"
      ]
     },
     "execution_count": 40,
     "metadata": {},
     "output_type": "execute_result"
    }
   ],
   "source": [
    "X.shape, y.shape"
   ]
  },
  {
   "cell_type": "markdown",
   "id": "6d083252-2dc0-460e-802a-8a253fa237bc",
   "metadata": {},
   "source": [
    "Here we need to reshape y so that global sales fits with the rest of the data in x."
   ]
  },
  {
   "cell_type": "code",
   "execution_count": 41,
   "id": "368dcb41-d4b0-4c33-94e5-47fe5b538d72",
   "metadata": {},
   "outputs": [
    {
     "data": {
      "text/plain": [
       "((16597, 6), (16597, 1))"
      ]
     },
     "execution_count": 41,
     "metadata": {},
     "output_type": "execute_result"
    }
   ],
   "source": [
    "y = y.values.reshape(-1,1)\n",
    "X.shape, y.shape"
   ]
  },
  {
   "attachments": {},
   "cell_type": "markdown",
   "id": "d637e113",
   "metadata": {},
   "source": [
    "4. For our models, we will test using Linear Regression, Lasso Regression, and Random Forest Regressor.\n",
    "\n",
    "Linear regression attempts to model the relationship between variables by fitting it to a linear equation. One variable is the dependent variable, and the other is the variable what you want to reach based on the dependent variables. This works well for our project because the variable we want to reach is the global sales value, and that can depend on the other variables in the dataset.\n",
    "\n",
    "Lasso regression is a form of linear regression, and attempts to get rid of irrelevant parameters, assisting in the concentration of selection and normalizes the model for more accurate data.\n",
    "\n",
    "Random forest regressor fits a number of classifying decision trees to various amples of the dataset and improves accuracy and control by using averages."
   ]
  },
  {
   "attachments": {},
   "cell_type": "markdown",
   "id": "b3c84b60-f874-40cc-bba6-755759a10dc6",
   "metadata": {},
   "source": [
    "5. Now, we split the dataset into training and test data. We use an 80-20 split, so that sample sizes on both sides are big enough to draw from. We also check the shape of the new parts to make sure it all looks okay. I tried other values to split the data, but 80% lead to the most accurate results."
   ]
  },
  {
   "cell_type": "code",
   "execution_count": 42,
   "id": "5f2eed6b-7cca-4900-b11b-8ab4ae81f6bc",
   "metadata": {},
   "outputs": [
    {
     "data": {
      "text/plain": [
       "((13277, 6), (3320, 6), (13277, 1), (3320, 1))"
      ]
     },
     "execution_count": 42,
     "metadata": {},
     "output_type": "execute_result"
    }
   ],
   "source": [
    "X_train, X_test, y_train, y_test = train_test_split(X, y, test_size=0.2, random_state=42)\n",
    "\n",
    "X_train.shape, X_test.shape, y_train.shape, y_test.shape"
   ]
  },
  {
   "cell_type": "markdown",
   "id": "c7bb56d5-c814-409e-9e95-5fa90e081648",
   "metadata": {},
   "source": [
    "First we'll define our Kfold value for cross validation later, to test the machines ability to predict  data that wasn't used in the construction of the model."
   ]
  },
  {
   "cell_type": "code",
   "execution_count": 43,
   "id": "347b2a5b-2d02-4eef-adf8-ff528f25817b",
   "metadata": {},
   "outputs": [],
   "source": [
    "cv = KFold(n_splits=10, shuffle=True, random_state=42)"
   ]
  },
  {
   "cell_type": "markdown",
   "id": "55037831-2fc8-443f-ad02-11446d853ca3",
   "metadata": {},
   "source": [
    "First, we'll test linear regression and see how the model manages with that, and if it scores high on accuracy across dataset matches."
   ]
  },
  {
   "cell_type": "code",
   "execution_count": 44,
   "id": "f4a3bd42-37eb-4b48-a729-867f3458bb7e",
   "metadata": {},
   "outputs": [
    {
     "data": {
      "text/plain": [
       "0.9745897187217948"
      ]
     },
     "execution_count": 44,
     "metadata": {},
     "output_type": "execute_result"
    }
   ],
   "source": [
    "model = LinearRegression()\n",
    "model.fit(X_train, y_train)\n",
    "model.score(X_test, y_test)"
   ]
  },
  {
   "cell_type": "markdown",
   "id": "01cfaa92-d8c0-4065-9b4b-0ce1757c555c",
   "metadata": {},
   "source": [
    "Accuracy of the training data itself"
   ]
  },
  {
   "cell_type": "code",
   "execution_count": 45,
   "id": "7823f815-ac6b-41ab-8645-791ccde661d5",
   "metadata": {},
   "outputs": [
    {
     "data": {
      "text/plain": [
       "0.975300224625098"
      ]
     },
     "execution_count": 45,
     "metadata": {},
     "output_type": "execute_result"
    }
   ],
   "source": [
    "model.score(X_train, y_train)"
   ]
  },
  {
   "cell_type": "markdown",
   "id": "b064f399-e60e-4b9e-a46c-b48843305d58",
   "metadata": {},
   "source": [
    "Accuracy of the test data itself"
   ]
  },
  {
   "cell_type": "code",
   "execution_count": 46,
   "id": "39788cca-baed-4d7b-a59e-efb02b284cd5",
   "metadata": {},
   "outputs": [
    {
     "data": {
      "text/plain": [
       "0.9745897187217948"
      ]
     },
     "execution_count": 46,
     "metadata": {},
     "output_type": "execute_result"
    }
   ],
   "source": [
    "model.score(X_test, y_test)"
   ]
  },
  {
   "cell_type": "markdown",
   "id": "591735a6-147f-4018-a4ee-30d3b8a56e71",
   "metadata": {},
   "source": [
    "Using our KFold values from earlier, we can get the cross validation scores."
   ]
  },
  {
   "cell_type": "code",
   "execution_count": 47,
   "id": "2c1abea8-0ec3-4f9e-b9d7-7cc694229f8c",
   "metadata": {},
   "outputs": [
    {
     "data": {
      "text/plain": [
       "array([0.08228124, 0.07929391, 0.07345992, 0.06942246, 0.07191032,\n",
       "       0.07648677, 0.0716953 , 0.06981173, 0.07358123, 0.07733632])"
      ]
     },
     "execution_count": 47,
     "metadata": {},
     "output_type": "execute_result"
    }
   ],
   "source": [
    "lg_scores = -1 * cross_val_score(model, \n",
    "                                 X_train, \n",
    "                                 y_train, \n",
    "                                 cv=cv, \n",
    "                                 scoring='neg_root_mean_squared_error')\n",
    "lg_scores"
   ]
  },
  {
   "cell_type": "markdown",
   "id": "caf4bde1-0971-44a9-ae06-95b9d2909a46",
   "metadata": {},
   "source": [
    "With these scores, we can then average them out to get a more completely accurate depiction of how it performs."
   ]
  },
  {
   "cell_type": "code",
   "execution_count": 48,
   "id": "f167f130-f70e-4da5-9d2e-892c43e2d551",
   "metadata": {},
   "outputs": [
    {
     "data": {
      "text/plain": [
       "0.07452791907982804"
      ]
     },
     "execution_count": 48,
     "metadata": {},
     "output_type": "execute_result"
    }
   ],
   "source": [
    "lg_score_train = nm.mean(lg_scores)\n",
    "lg_score_train"
   ]
  },
  {
   "cell_type": "markdown",
   "id": "0fe79d29-d275-4741-9d4c-871778170155",
   "metadata": {},
   "source": [
    "With all this done, we can now get our results for Linear Regression's accuracy."
   ]
  },
  {
   "cell_type": "code",
   "execution_count": 49,
   "id": "2af478de-b49c-4382-bd18-193eeb037b99",
   "metadata": {},
   "outputs": [],
   "source": [
    "y_predicted = model.predict(X_test)"
   ]
  },
  {
   "cell_type": "code",
   "execution_count": 50,
   "id": "0f65f377-7bc0-417b-8f50-88948d3235db",
   "metadata": {},
   "outputs": [
    {
     "name": "stdout",
     "output_type": "stream",
     "text": [
      "The accuracy is: 97.45897187217948\n"
     ]
    }
   ],
   "source": [
    "rg = r2_score(y_test,y_predicted)*100\n",
    "print(\"The accuracy is: {}\".format(rg))"
   ]
  },
  {
   "cell_type": "markdown",
   "id": "b182422a-28fd-44e6-a3b9-3326bf9d01b1",
   "metadata": {},
   "source": [
    "We then move on to lasso regression, and can check the accuracy of the training data using it."
   ]
  },
  {
   "cell_type": "code",
   "execution_count": 51,
   "id": "f3614763-94da-4622-a74b-11c27df4e349",
   "metadata": {},
   "outputs": [
    {
     "data": {
      "text/plain": [
       "0.47462520184480417"
      ]
     },
     "execution_count": 51,
     "metadata": {},
     "output_type": "execute_result"
    }
   ],
   "source": [
    "clf = linear_model.Lasso(alpha=0.1)\n",
    "clf.fit(X_train,y_train)\n",
    "Lasso(alpha=0.1)\n",
    "clf.score(X_train,y_train)"
   ]
  },
  {
   "cell_type": "markdown",
   "id": "bf605256-75a6-4c6a-a9c9-53cebbd3a2aa",
   "metadata": {},
   "source": [
    "We then check the accuracy of the test data."
   ]
  },
  {
   "cell_type": "code",
   "execution_count": 52,
   "id": "e054f841-6808-4d9f-8e35-c503e6f7f073",
   "metadata": {},
   "outputs": [
    {
     "data": {
      "text/plain": [
       "47.5064890085524"
      ]
     },
     "execution_count": 52,
     "metadata": {},
     "output_type": "execute_result"
    }
   ],
   "source": [
    "y_predicted1 = clf.predict(X_test)\n",
    "lg = r2_score(y_test,y_predicted1)*100\n",
    "lg"
   ]
  },
  {
   "cell_type": "markdown",
   "id": "431ababa-aeee-4b0d-9298-296f31df7ea1",
   "metadata": {},
   "source": [
    "Using our KFold from earlier, we again use it to cross validate using Lasso Regression, and then get the mean of the results from that."
   ]
  },
  {
   "cell_type": "code",
   "execution_count": 53,
   "id": "bce2200d-f7a6-4bec-9747-d4f48edcdb68",
   "metadata": {},
   "outputs": [
    {
     "data": {
      "text/plain": [
       "array([0.33959757, 0.33564402, 0.33512176, 0.35858605, 0.33472361,\n",
       "       0.33992107, 0.34628497, 0.33626731, 0.36590634, 0.34236744])"
      ]
     },
     "execution_count": 53,
     "metadata": {},
     "output_type": "execute_result"
    }
   ],
   "source": [
    "Nn_scores = -1 * cross_val_score(clf, \n",
    "                                    X_train, \n",
    "                                    y_train, \n",
    "                                    cv=cv, \n",
    "                                    scoring='neg_root_mean_squared_error')\n",
    "Nn_scores"
   ]
  },
  {
   "cell_type": "code",
   "execution_count": 54,
   "id": "a004dba8-b982-4a7f-89e8-6b0aada59829",
   "metadata": {},
   "outputs": [
    {
     "data": {
      "text/plain": [
       "0.34344201477612374"
      ]
     },
     "execution_count": 54,
     "metadata": {},
     "output_type": "execute_result"
    }
   ],
   "source": [
    "Nn_score_train = nm.mean(Nn_scores)\n",
    "Nn_score_train"
   ]
  },
  {
   "cell_type": "code",
   "execution_count": 55,
   "id": "20904d8c-eafd-440f-b618-81de5499e88d",
   "metadata": {},
   "outputs": [
    {
     "name": "stdout",
     "output_type": "stream",
     "text": [
      "The accuracy is: 97.45897187217948\n"
     ]
    }
   ],
   "source": [
    "lg = r2_score(y_test,y_predicted)*100\n",
    "print(\"The accuracy is: {}\".format(lg))"
   ]
  },
  {
   "cell_type": "markdown",
   "id": "c996401d-d7e6-4564-a1b7-af345ab98163",
   "metadata": {},
   "source": [
    "Finally, we move on to Random Forest Regressor, and check the scoring of the training data again."
   ]
  },
  {
   "cell_type": "code",
   "execution_count": 56,
   "id": "a1c69a56-108a-469c-b403-88e6a067dca6",
   "metadata": {},
   "outputs": [
    {
     "name": "stderr",
     "output_type": "stream",
     "text": [
      "C:\\Python311\\Lib\\site-packages\\sklearn\\base.py:1473: DataConversionWarning: A column-vector y was passed when a 1d array was expected. Please change the shape of y to (n_samples,), for example using ravel().\n",
      "  return fit_method(estimator, *args, **kwargs)\n"
     ]
    },
    {
     "data": {
      "text/plain": [
       "0.7764878438355911"
      ]
     },
     "execution_count": 56,
     "metadata": {},
     "output_type": "execute_result"
    }
   ],
   "source": [
    "RFReg = RandomForestRegressor(max_depth=2, random_state=0)\n",
    "RFReg.fit(X_train, y_train)\n",
    "RFReg.score(X_train, y_train)"
   ]
  },
  {
   "cell_type": "markdown",
   "id": "6c34a70a-5ece-413b-bf2a-8493ee7c91f4",
   "metadata": {},
   "source": [
    "Once again, we use our KFold from earlier to get the cross validation scores, this time for Random Forest Regressor."
   ]
  },
  {
   "cell_type": "code",
   "execution_count": 57,
   "id": "c22b9ed9-00fe-4196-b6ee-db5e300d23a0",
   "metadata": {},
   "outputs": [
    {
     "name": "stderr",
     "output_type": "stream",
     "text": [
      "C:\\Python311\\Lib\\site-packages\\sklearn\\base.py:1473: DataConversionWarning: A column-vector y was passed when a 1d array was expected. Please change the shape of y to (n_samples,), for example using ravel().\n",
      "  return fit_method(estimator, *args, **kwargs)\n",
      "C:\\Python311\\Lib\\site-packages\\sklearn\\base.py:1473: DataConversionWarning: A column-vector y was passed when a 1d array was expected. Please change the shape of y to (n_samples,), for example using ravel().\n",
      "  return fit_method(estimator, *args, **kwargs)\n",
      "C:\\Python311\\Lib\\site-packages\\sklearn\\base.py:1473: DataConversionWarning: A column-vector y was passed when a 1d array was expected. Please change the shape of y to (n_samples,), for example using ravel().\n",
      "  return fit_method(estimator, *args, **kwargs)\n",
      "C:\\Python311\\Lib\\site-packages\\sklearn\\base.py:1473: DataConversionWarning: A column-vector y was passed when a 1d array was expected. Please change the shape of y to (n_samples,), for example using ravel().\n",
      "  return fit_method(estimator, *args, **kwargs)\n",
      "C:\\Python311\\Lib\\site-packages\\sklearn\\base.py:1473: DataConversionWarning: A column-vector y was passed when a 1d array was expected. Please change the shape of y to (n_samples,), for example using ravel().\n",
      "  return fit_method(estimator, *args, **kwargs)\n",
      "C:\\Python311\\Lib\\site-packages\\sklearn\\base.py:1473: DataConversionWarning: A column-vector y was passed when a 1d array was expected. Please change the shape of y to (n_samples,), for example using ravel().\n",
      "  return fit_method(estimator, *args, **kwargs)\n",
      "C:\\Python311\\Lib\\site-packages\\sklearn\\base.py:1473: DataConversionWarning: A column-vector y was passed when a 1d array was expected. Please change the shape of y to (n_samples,), for example using ravel().\n",
      "  return fit_method(estimator, *args, **kwargs)\n",
      "C:\\Python311\\Lib\\site-packages\\sklearn\\base.py:1473: DataConversionWarning: A column-vector y was passed when a 1d array was expected. Please change the shape of y to (n_samples,), for example using ravel().\n",
      "  return fit_method(estimator, *args, **kwargs)\n",
      "C:\\Python311\\Lib\\site-packages\\sklearn\\base.py:1473: DataConversionWarning: A column-vector y was passed when a 1d array was expected. Please change the shape of y to (n_samples,), for example using ravel().\n",
      "  return fit_method(estimator, *args, **kwargs)\n",
      "C:\\Python311\\Lib\\site-packages\\sklearn\\base.py:1473: DataConversionWarning: A column-vector y was passed when a 1d array was expected. Please change the shape of y to (n_samples,), for example using ravel().\n",
      "  return fit_method(estimator, *args, **kwargs)\n"
     ]
    },
    {
     "data": {
      "text/plain": [
       "array([0.22488934, 0.22428893, 0.22413748, 0.20785929, 0.22164593,\n",
       "       0.2315729 , 0.22369379, 0.21450739, 0.24035355, 0.22904395])"
      ]
     },
     "execution_count": 57,
     "metadata": {},
     "output_type": "execute_result"
    }
   ],
   "source": [
    "Dta_scores = -1 * cross_val_score(RFReg, \n",
    "                                    X_train, \n",
    "                                    y_train, \n",
    "                                    cv=cv, \n",
    "                                    scoring='neg_root_mean_squared_error')\n",
    "Dta_scores"
   ]
  },
  {
   "cell_type": "markdown",
   "id": "fc7accb0-88cb-46dd-8d63-80f7f13e6ad5",
   "metadata": {},
   "source": [
    "Again, we calculate the mean from the results we got from using cross validation."
   ]
  },
  {
   "cell_type": "code",
   "execution_count": 58,
   "id": "1ab8cdbc-5a71-495b-9b3f-6e8e20f97287",
   "metadata": {},
   "outputs": [
    {
     "data": {
      "text/plain": [
       "0.22419925637841512"
      ]
     },
     "execution_count": 58,
     "metadata": {},
     "output_type": "execute_result"
    }
   ],
   "source": [
    "Dta_score_train = nm.mean(Dta_scores)\n",
    "Dta_score_train"
   ]
  },
  {
   "cell_type": "code",
   "execution_count": 59,
   "id": "703708b6-786b-462b-bd4c-4ef8725fcd88",
   "metadata": {},
   "outputs": [],
   "source": [
    "y_predicted = RFReg.predict(X_test)"
   ]
  },
  {
   "cell_type": "code",
   "execution_count": 60,
   "id": "50599f22-019a-4a8e-b38d-5eb39b469ae1",
   "metadata": {},
   "outputs": [
    {
     "name": "stdout",
     "output_type": "stream",
     "text": [
      "The accuracy is 75.96666111411197 %\n"
     ]
    }
   ],
   "source": [
    "r_acc = r2_score(y_test, y_predicted)*100\n",
    "print(\"The accuracy is {} %\".format(r_acc))"
   ]
  },
  {
   "cell_type": "code",
   "execution_count": 61,
   "id": "cfe39015-ebc0-4f7f-aa14-965a050c96ac",
   "metadata": {},
   "outputs": [
    {
     "data": {
      "text/html": [
       "<div>\n",
       "<style scoped>\n",
       "    .dataframe tbody tr th:only-of-type {\n",
       "        vertical-align: middle;\n",
       "    }\n",
       "\n",
       "    .dataframe tbody tr th {\n",
       "        vertical-align: top;\n",
       "    }\n",
       "\n",
       "    .dataframe thead th {\n",
       "        text-align: right;\n",
       "    }\n",
       "</style>\n",
       "<table border=\"1\" class=\"dataframe\">\n",
       "  <thead>\n",
       "    <tr style=\"text-align: right;\">\n",
       "      <th></th>\n",
       "      <th>Global_Sales</th>\n",
       "    </tr>\n",
       "  </thead>\n",
       "  <tbody>\n",
       "    <tr>\n",
       "      <th>Linear Regression</th>\n",
       "      <td>97.458972</td>\n",
       "    </tr>\n",
       "    <tr>\n",
       "      <th>Lasso Regression</th>\n",
       "      <td>97.458972</td>\n",
       "    </tr>\n",
       "    <tr>\n",
       "      <th>Random forest Regressor</th>\n",
       "      <td>75.966661</td>\n",
       "    </tr>\n",
       "  </tbody>\n",
       "</table>\n",
       "</div>"
      ],
      "text/plain": [
       "                         Global_Sales\n",
       "Linear Regression           97.458972\n",
       "Lasso Regression            97.458972\n",
       "Random forest Regressor     75.966661"
      ]
     },
     "execution_count": 61,
     "metadata": {},
     "output_type": "execute_result"
    }
   ],
   "source": [
    "cal_metric=pd.DataFrame([rg,lg,r_acc],columns=[\"Global_Sales\"])\n",
    "cal_metric.index=['Linear Regression',\n",
    "                  'Lasso Regression','Random forest Regressor']\n",
    "cal_metric"
   ]
  },
  {
   "cell_type": "markdown",
   "id": "470da39b-c6ee-44f5-9a2d-d9e6ae77fdfe",
   "metadata": {},
   "source": [
    "From these results, you can see that using Linear Regression or Lasso Regression is quite a lot better than using Random forest Regressor. So, we will save our model with that, and test it."
   ]
  },
  {
   "cell_type": "code",
   "execution_count": 62,
   "id": "53c625ba-6af7-4d8e-8634-10e7a3493f85",
   "metadata": {},
   "outputs": [],
   "source": [
    "pickle.dump(model, open('VGSales_LinearRegression.pkl', 'wb'))"
   ]
  },
  {
   "cell_type": "code",
   "execution_count": 63,
   "id": "d465e145-50ad-442a-b989-ea1fcbd0b5af",
   "metadata": {},
   "outputs": [],
   "source": [
    "def model_predict(features):\n",
    "    pickled_model = pickle.load(open('VGSales_LinearRegression.pkl', 'rb'))\n",
    "    Global_Sales = str(list(pickled_model.predict(features)))\n",
    "\n",
    "    return str(f'The sales in millions would be: {Global_Sales}')"
   ]
  },
  {
   "cell_type": "markdown",
   "id": "c1afb2b2-956f-4379-a494-51e1b96c607b",
   "metadata": {},
   "source": [
    "Platform 3 would be the Wii, and Genre 6 would be Racing, so let's see how a Racing wii game could potentially perform."
   ]
  },
  {
   "cell_type": "code",
   "execution_count": 70,
   "id": "a00b3854-e8d5-4590-802d-1b2c28751215",
   "metadata": {},
   "outputs": [],
   "source": [
    "Platform = 1\n",
    "Genre = 6\n",
    "NA_Sales_skew = 4.2\n",
    "EU_Sales_skew = 3.78\n",
    "JP_Sales_skew = 0.8\n",
    "Other_Sales_skew = 3.2"
   ]
  },
  {
   "cell_type": "code",
   "execution_count": 71,
   "id": "cbc4621e-0361-46cf-8d96-5591391dce14",
   "metadata": {},
   "outputs": [
    {
     "data": {
      "text/plain": [
       "'The sales in millions would be: [array([6.30479612])]'"
      ]
     },
     "execution_count": 71,
     "metadata": {},
     "output_type": "execute_result"
    }
   ],
   "source": [
    "model_predict([[Platform, Genre, NA_Sales_skew, EU_Sales_skew, JP_Sales_skew, Other_Sales_skew]])"
   ]
  },
  {
   "cell_type": "markdown",
   "id": "5bf1056f-c3c9-473e-a878-244d47c8862d",
   "metadata": {},
   "source": [
    "And there you have it, we have a program that can estimate the performance of a certain genre/platform combo and how well it performs in certain regions, potentially informing game developers what would be the most profitable return on their investments."
   ]
  }
 ],
 "metadata": {
  "kernelspec": {
   "display_name": "Python 3 (ipykernel)",
   "language": "python",
   "name": "python3"
  },
  "language_info": {
   "codemirror_mode": {
    "name": "ipython",
    "version": 3
   },
   "file_extension": ".py",
   "mimetype": "text/x-python",
   "name": "python",
   "nbconvert_exporter": "python",
   "pygments_lexer": "ipython3",
   "version": "3.11.0"
  }
 },
 "nbformat": 4,
 "nbformat_minor": 5
}
